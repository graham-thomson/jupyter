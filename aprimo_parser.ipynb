{
 "cells": [
  {
   "cell_type": "code",
   "execution_count": 4,
   "metadata": {
    "collapsed": false
   },
   "outputs": [],
   "source": [
    "import os\n",
    "from subprocess import Popen, PIPE\n",
    "\n",
    "aprimo_path = \"/mnt/aprimo\"\n",
    "\n",
    "files_in_path = os.listdir(os.path.join(aprimo_path))"
   ]
  },
  {
   "cell_type": "code",
   "execution_count": 12,
   "metadata": {
    "collapsed": false
   },
   "outputs": [
    {
     "name": "stdout",
     "output_type": "stream",
     "text": [
      "/mnt/aprimo/aprimo_activity_utf.txt: text/plain; charset=utf-8\n",
      "\n",
      "/mnt/aprimo/aprimo-digital-asset.txt: text/plain; charset=unknown-8bit\n",
      "\n",
      "/mnt/aprimo/aprimo_integrated_campaign.txt: application/octet-stream; charset=binary\n",
      "\n",
      "/mnt/aprimo/aprimo_activity.txt: text/plain; charset=iso-8859-1\n",
      "\n"
     ]
    }
   ],
   "source": [
    "for f in files_in_path:\n",
    "    if f.startswith(\"aprimo\") and f.endswith(\"txt\"):\n",
    "        print Popen(\"file -i {}\".format(os.path.join(aprimo_path, f)).split(), stdout=PIPE).communicate ()[0]"
   ]
  },
  {
   "cell_type": "code",
   "execution_count": 28,
   "metadata": {
    "collapsed": false
   },
   "outputs": [],
   "source": [
    "activity = open(\"/mnt/aprimo/aprimo_activity.txt\", \"rb\").readlines()"
   ]
  },
  {
   "cell_type": "code",
   "execution_count": 30,
   "metadata": {
    "collapsed": false
   },
   "outputs": [],
   "source": [
    "esl = lambda x: x.decode(\"ISO-8859-1\").encode(\"utf-8\").split(\"¬\")"
   ]
  },
  {
   "cell_type": "code",
   "execution_count": 31,
   "metadata": {
    "collapsed": false
   },
   "outputs": [],
   "source": [
    "activity = [esl(row) for row in activity if len(esl(row)) == 44]"
   ]
  },
  {
   "cell_type": "code",
   "execution_count": 43,
   "metadata": {
    "collapsed": false
   },
   "outputs": [
    {
     "name": "stdout",
     "output_type": "stream",
     "text": [
      "290408\n",
      "291497 /mnt/aprimo/aprimo_activity.txt\n",
      "\n"
     ]
    }
   ],
   "source": [
    "print len(activity)\n",
    "print Popen(\"wc -l {}\".format(\"/mnt/aprimo/aprimo_activity.txt\").split(), stdout=PIPE).communicate()[0]"
   ]
  },
  {
   "cell_type": "markdown",
   "metadata": {},
   "source": [
    "### Testing Success (99.62%)"
   ]
  },
  {
   "cell_type": "code",
   "execution_count": 47,
   "metadata": {
    "collapsed": false
   },
   "outputs": [],
   "source": [
    "campaign = open(\"/mnt/aprimo/aprimo_integrated_campaign.txt\", \"rb\").readlines()"
   ]
  },
  {
   "cell_type": "code",
   "execution_count": 48,
   "metadata": {
    "collapsed": false
   },
   "outputs": [],
   "source": [
    "campaign = [esl(row) for row in campaign if len(esl(row)) == 50]"
   ]
  },
  {
   "cell_type": "code",
   "execution_count": 50,
   "metadata": {
    "collapsed": false
   },
   "outputs": [
    {
     "name": "stdout",
     "output_type": "stream",
     "text": [
      "106866\n",
      "106891 /mnt/aprimo/aprimo_integrated_campaign.txt\n",
      "\n"
     ]
    }
   ],
   "source": [
    "print len(campaign)\n",
    "print Popen(\"wc -l {}\".format(\"/mnt/aprimo/aprimo_integrated_campaign.txt\").split(), stdout=PIPE).communicate()[0]"
   ]
  },
  {
   "cell_type": "code",
   "execution_count": 52,
   "metadata": {
    "collapsed": false
   },
   "outputs": [],
   "source": [
    "import pickle\n",
    "\n",
    "campaign_cols = pickle.load(open(os.path.join(aprimo_path, \"campaign_columns.p\"), \"rb\"))\n",
    "campaign = spark.createDataFrame(campaign, campaign_cols)"
   ]
  },
  {
   "cell_type": "code",
   "execution_count": 71,
   "metadata": {
    "collapsed": false
   },
   "outputs": [
    {
     "name": "stdout",
     "output_type": "stream",
     "text": [
      "+----------------------+-----------+----------+-------------------+-----+-------------------+------+---------------+\n",
      "|integrated_campaign_id|proposal_id|mapping_id|         begin_date|brand|     classification|client|  currency_code|\n",
      "+----------------------+-----------+----------+-------------------+-----+-------------------+------+---------------+\n",
      "|                  1098|           |          |2012-05-01 00:00:00|     |HP Global Marketing|      |USD (US Dollar)|\n",
      "|                 10980|           |          |2012-11-02 00:00:00|     |HP Global Marketing|      |USD (US Dollar)|\n",
      "|                 10996|           |          |2010-06-01 00:00:00|     |HP Global Marketing|      |USD (US Dollar)|\n",
      "|                 11283|           |          |2013-08-07 00:00:00|     |HP Global Marketing|      |USD (US Dollar)|\n",
      "|                 11652|           |          |2013-04-30 00:00:00|     |HP Global Marketing|      |USD (US Dollar)|\n",
      "+----------------------+-----------+----------+-------------------+-----+-------------------+------+---------------+\n",
      "only showing top 5 rows\n",
      "\n"
     ]
    }
   ],
   "source": [
    "campaign.select(campaign.columns[:8]).sample(False, .10, 88).show(5)"
   ]
  },
  {
   "cell_type": "code",
   "execution_count": 98,
   "metadata": {
    "collapsed": false
   },
   "outputs": [],
   "source": [
    "campaign.write.parquet(\"/mnt/aprimo/clean/aprimo-integrated-campaign.parquet\")"
   ]
  },
  {
   "cell_type": "code",
   "execution_count": 96,
   "metadata": {
    "collapsed": true
   },
   "outputs": [],
   "source": [
    "class AprimoParser(object):\n",
    "    \n",
    "    def __init__(self, path_to_file, encoding=\"ISO-8859-1\", delim=\"\\t\", expected_cols=False):\n",
    "        self.path_to_file = path_to_file\n",
    "        self.encoding = encoding\n",
    "        self.delim = delim\n",
    "        self.expected_cols = expected_cols\n",
    "        self.read_in = False\n",
    "    \n",
    "    def __getitem__(self, key):\n",
    "        if not self.read_in:\n",
    "            return self.read()[key]\n",
    "        return self.data[key]\n",
    "            \n",
    "    def read(self):\n",
    "        self.data = open(self.path_to_file, \"rb\").readlines()\n",
    "        des = lambda x: x.decode(self.encoding).encode(\"utf-8\").split(self.delim)\n",
    "        if self.expected_cols:\n",
    "            self.data = [des(row) for row in self.data if len(esl(row)) == self.expected_cols]\n",
    "        else:\n",
    "            self.data = [des(row) for row in self.data]\n",
    "        self.read_in = True\n",
    "        return self\n",
    "    \n",
    "    def to_spark(self, columns):\n",
    "        if not self.read_in:\n",
    "            self.data = spark.createDataFrame(self.read(), columns)\n",
    "            return self\n",
    "        self.data = spark.createDataFrame(self.data, columns)\n",
    "        return self\n",
    "    \n",
    "\n",
    "camp = AprimoParser(os.path.join(aprimo_path, \"aprimo_integrated_campaign.txt\"), delim=\"¬\", expected_cols=50)"
   ]
  },
  {
   "cell_type": "code",
   "execution_count": 101,
   "metadata": {
    "collapsed": false
   },
   "outputs": [],
   "source": [
    "asset_ = AprimoParser(os.path.join(aprimo_path, \"aprimo-digital-asset.txt\"), delim=\"¬\", expected_cols=56)"
   ]
  },
  {
   "cell_type": "code",
   "execution_count": 105,
   "metadata": {
    "collapsed": false
   },
   "outputs": [],
   "source": [
    "asset_ = asset_.to_spark(pickle.load(open(os.path.join(aprimo_path, \"asset_columns.p\"))))"
   ]
  },
  {
   "cell_type": "code",
   "execution_count": 108,
   "metadata": {
    "collapsed": false
   },
   "outputs": [],
   "source": [
    "asset_.data.write.parquet(\"/mnt/aprimo/clean/aprimo-digital-asset.parquet\")"
   ]
  }
 ],
 "metadata": {
  "kernelspec": {
   "display_name": "Python 2",
   "language": "python",
   "name": "python2"
  },
  "language_info": {
   "codemirror_mode": {
    "name": "ipython",
    "version": 2
   },
   "file_extension": ".py",
   "mimetype": "text/x-python",
   "name": "python",
   "nbconvert_exporter": "python",
   "pygments_lexer": "ipython2",
   "version": "2.7.6"
  }
 },
 "nbformat": 4,
 "nbformat_minor": 0
}
